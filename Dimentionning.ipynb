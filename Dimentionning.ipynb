{
 "cells": [
  {
   "cell_type": "markdown",
   "id": "40d71610",
   "metadata": {},
   "source": [
    "# Dimentionning : Autonomous System Brake\n",
    "Abreviations used in the Notebook:\n",
    "* MC = Master Cylinder\n",
    "* EA = Electrical Actuator\n",
    "\n",
    "## Imports"
   ]
  },
  {
   "cell_type": "code",
   "execution_count": 1,
   "id": "bed25b13",
   "metadata": {
    "ExecuteTime": {
     "end_time": "2022-01-04T15:00:45.628552Z",
     "start_time": "2022-01-04T15:00:45.152741Z"
    }
   },
   "outputs": [],
   "source": [
    "import numpy as np\n",
    "import matplotlib.pyplot as plt\n",
    "import math\n",
    "\n",
    "plt.rcParams[\"figure.figsize\"] = (13,9) # To change plot size"
   ]
  },
  {
   "cell_type": "markdown",
   "id": "26d60668",
   "metadata": {},
   "source": [
    "## General parameters"
   ]
  },
  {
   "cell_type": "code",
   "execution_count": 2,
   "id": "23b7ec5e",
   "metadata": {
    "ExecuteTime": {
     "end_time": "2022-01-04T15:00:45.660469Z",
     "start_time": "2022-01-04T15:00:45.629549Z"
    }
   },
   "outputs": [
    {
     "name": "stdout",
     "output_type": "stream",
     "text": [
      "The required force to lock all wheels is about 725.5 N (74 kg).\n"
     ]
    }
   ],
   "source": [
    "pression_locking_R = 6.5 # [MPa == N*mm^-2 == 10 bar]\n",
    "pression_locking_F = pression_locking_R/1.238333 # [MPa == N*mm^-2 == 10 bar]\n",
    "MC_diameter = 16.8 # [mm]\n",
    "pedal_lever = 240 # [mm]\n",
    "brake_travel_angular = 4.2 # [°]\n",
    "pedal_ratio = 3.59 # [ ]\n",
    "\n",
    "\n",
    "# MC infos\n",
    "MC_area = np.array(MC_diameter)**2*np.pi/4  # [mm^2]  (D^2/4*pi)\n",
    "MC_force_F = pression_locking_F * MC_area # [N] (for the front brake line)\n",
    "MC_force_R = pression_locking_R * MC_area # [N] (for the rear brake line)\n",
    "\n",
    "# Travels\n",
    "brake_travel = 2*pedal_lever*np.sin(brake_travel_angular*np.pi/180) # [mm]\n",
    "MC_travel = brake_travel/pedal_ratio # [mm]\n",
    "\n",
    "# Force pedal\n",
    "MC_total_force = MC_force_F + MC_force_R\n",
    "pedal_total_force = MC_total_force / pedal_ratio\n",
    "\n",
    "print(f\"The required force to lock all wheels is about {round(pedal_total_force,1)} N ({round(pedal_total_force/9.81)} kg).\")"
   ]
  },
  {
   "cell_type": "code",
   "execution_count": 3,
   "id": "24f012f6",
   "metadata": {
    "ExecuteTime": {
     "end_time": "2022-01-04T15:00:45.675962Z",
     "start_time": "2022-01-04T15:00:45.661480Z"
    }
   },
   "outputs": [
    {
     "data": {
      "text/plain": [
       "35.15433462126321"
      ]
     },
     "execution_count": 3,
     "metadata": {},
     "output_type": "execute_result"
    }
   ],
   "source": [
    "brake_travel"
   ]
  },
  {
   "cell_type": "code",
   "execution_count": 4,
   "id": "21eb9f6a",
   "metadata": {
    "ExecuteTime": {
     "end_time": "2022-01-04T15:00:45.691891Z",
     "start_time": "2022-01-04T15:00:45.676975Z"
    }
   },
   "outputs": [],
   "source": [
    "conv_factor_f = pedal_total_force/pression_locking_F\n",
    "conv_factor_r = pedal_total_force/pression_locking_R"
   ]
  },
  {
   "cell_type": "code",
   "execution_count": 5,
   "id": "39b9deed",
   "metadata": {
    "ExecuteTime": {
     "end_time": "2022-01-04T15:00:45.706880Z",
     "start_time": "2022-01-04T15:00:45.692889Z"
    }
   },
   "outputs": [
    {
     "data": {
      "text/plain": [
       "669.6571308105799"
      ]
     },
     "execution_count": 5,
     "metadata": {},
     "output_type": "execute_result"
    }
   ],
   "source": [
    "conv_factor_r*6"
   ]
  },
  {
   "cell_type": "markdown",
   "id": "faec93d4",
   "metadata": {},
   "source": [
    "## General estimations\n",
    "### MC load capacity \n",
    "\n",
    "Formula comes from [ochiai-if.net](http://www.ochiai-if.net/products/pdf/001/001002.pdf)"
   ]
  },
  {
   "cell_type": "code",
   "execution_count": 6,
   "id": "3aca3c3a",
   "metadata": {
    "ExecuteTime": {
     "end_time": "2022-01-04T15:00:45.721840Z",
     "start_time": "2022-01-04T15:00:45.707875Z"
    }
   },
   "outputs": [
    {
     "name": "stdout",
     "output_type": "stream",
     "text": [
      "Le circlip supporte entre 15.2 kN et 35.6 kN sans déformation élastique.\n"
     ]
    }
   ],
   "source": [
    "A = 0.5 # Shape factor [ ]\n",
    "D = 2*13.475 # Shaft diameter [mm] \n",
    "T = 1.2 # Circlip thickness [mm]\n",
    "Ss = [300, 700] # Shear Strenght [MPa] (spring steel)\n",
    "\n",
    "max_load = A*D*T*np.pi*np.array(Ss) #[N]\n",
    "\n",
    "print(f\"Le circlip supporte entre {round(max_load[0]/1000,1)} kN et {round(max_load[1]/1000,1)} kN sans déformation élastique.\")\n",
    "#print(f\"Le MC recevra au maximum {round(max((1-0.36)*2.5,MC_force/1000),1)} kN (Test pédale +25% / Commande max).\")\n",
    "\n",
    "# revoir la formule, ça parait trop haut"
   ]
  },
  {
   "cell_type": "markdown",
   "id": "27612520",
   "metadata": {},
   "source": [
    "## Service brake\n",
    "### New components parameters"
   ]
  },
  {
   "cell_type": "code",
   "execution_count": 7,
   "id": "3b9dcbec",
   "metadata": {
    "ExecuteTime": {
     "end_time": "2022-01-04T15:00:45.736772Z",
     "start_time": "2022-01-04T15:00:45.722845Z"
    }
   },
   "outputs": [],
   "source": [
    "# max_torque_EA = 1 #[Nm]\n",
    "# new_MC_diameter = 14 # [mm]\n",
    "\n",
    "# new_MC_area = np.array(new_MC_diameter)**2*np.pi/4  # [mm^2]  (D^2/4*pi)\n",
    "# new_MC_force = pression_locking * new_MC_area # [N]\n",
    "# new_MC_travel = MC_travel * MC_area / new_MC_area # [mm]  (assumes the compressed volume is the same)"
   ]
  },
  {
   "cell_type": "markdown",
   "id": "aa67412e",
   "metadata": {},
   "source": [
    "### Lever linking MC to motor"
   ]
  },
  {
   "cell_type": "code",
   "execution_count": 8,
   "id": "d47e498b",
   "metadata": {
    "ExecuteTime": {
     "end_time": "2022-01-04T15:00:45.752761Z",
     "start_time": "2022-01-04T15:00:45.737770Z"
    }
   },
   "outputs": [],
   "source": [
    "# shaft_radius_EA = 10 #[mm]\n",
    "\n",
    "# lever_ratio = new_MC_force / (max_torque_EA*1000/shaft_radius_EA)\n",
    "\n",
    "# print(f\"The lever ratio must be at least {round(lever_ratio,2)} to be able to lock the wheels.\")"
   ]
  },
  {
   "cell_type": "markdown",
   "id": "d77d499f",
   "metadata": {},
   "source": [
    "### Cam pressing on MC with a reduction stage\n",
    "Example of components:\n",
    "* Reductor Maxon 166158 : 14:1, 2.23 Nm\n",
    "* EA Maxon 236662 : 212 mNm at start, 24 V"
   ]
  },
  {
   "cell_type": "code",
   "execution_count": 9,
   "id": "7a0bac82",
   "metadata": {
    "ExecuteTime": {
     "end_time": "2022-01-04T15:00:45.767718Z",
     "start_time": "2022-01-04T15:00:45.753769Z"
    }
   },
   "outputs": [],
   "source": [
    "# # Plot parameters\n",
    "# R_MIN_TEST = 5\n",
    "# R_MAX_TEST = 150\n",
    "# NB_SAMPLE = 100\n",
    "\n",
    "# # System parameters\n",
    "# reduction = 14 #[ ]\n",
    "# cam_travel = new_MC_travel # [mm]\n",
    "# cam_R_min = np.linspace(R_MIN_TEST,R_MAX_TEST,NB_SAMPLE) # [mm]\n",
    "\n",
    "# # Computation for linear elipse\n",
    "# teta = np.arctan(cam_travel/(cam_R_min*2*np.pi)) # [rad] Angle of pressure of the force on the cam\n",
    "# cam_max_torque = new_MC_force * (cam_R_min+cam_travel) * np.sin(teta) * np.cos(teta)\n",
    "\n",
    "# # Computation for offcenter circle axle\n",
    "# # cam_max_torque = new_MC_force * cam_R_min\n",
    "\n",
    "# EA_max_torque = cam_max_torque / reduction\n",
    "\n",
    "\n",
    "# # Results presentation\n",
    "# print(f\"The cam torque for a min radius of {cam_R_min[0]} mm is {round(cam_max_torque[0])} mNm, which is {round(EA_max_torque[0])} mNm at the EA.\")\n",
    "\n",
    "# plt.plot(cam_max_torque, label='Cam')\n",
    "# plt.plot(EA_max_torque, label='EA')\n",
    "\n",
    "# plt.legend(loc=\"best\")\n",
    "# plt.xlabel(\"Min Radius [mm]\")\n",
    "# plt.ylabel(\"Torque [mNm]\")\n",
    "# plt.title(\"Cam max torque as a function of its geometry\")\n",
    "# plt.grid()\n",
    "\n",
    "# tick_locs = np.linspace(0,NB_SAMPLE,5)\n",
    "# tick_lbls = np.linspace(R_MIN_TEST,R_MAX_TEST,5)\n",
    "# plt.xticks(tick_locs, tick_lbls)\n",
    "\n",
    "# plt.show()"
   ]
  },
  {
   "cell_type": "markdown",
   "id": "99f68cc6",
   "metadata": {},
   "source": [
    "### Cable pulling the pedal with reduction stage"
   ]
  },
  {
   "cell_type": "code",
   "execution_count": 10,
   "id": "7c933aca",
   "metadata": {
    "ExecuteTime": {
     "end_time": "2022-01-04T15:00:45.909971Z",
     "start_time": "2022-01-04T15:00:45.769709Z"
    }
   },
   "outputs": [
    {
     "name": "stdout",
     "output_type": "stream",
     "text": [
      "Maximal values :\n",
      "The needed torque for an out radius of 5 mm is 3627 mNm, which is 259 mNm at the EA.\n",
      "The output would make 1.15 turn(s) to achieve full range.\n",
      "The cable elongation is 0.2 % (1.0 mm) when locking the wheels.\n"
     ]
    },
    {
     "data": {
      "image/png": "[encoded data removed]",
      "text/plain": [
       "<Figure size 936x648 with 1 Axes>"
      ]
     },
     "metadata": {
      "needs_background": "light"
     },
     "output_type": "display_data"
    }
   ],
   "source": [
    "# Plot parameters\n",
    "F_MIN_TEST = 0\n",
    "F_MAX_TEST = pedal_total_force\n",
    "NB_SAMPLE = 100\n",
    "\n",
    "# System parameters\n",
    "F = np.linspace(F_MIN_TEST,F_MAX_TEST,NB_SAMPLE) # [N]\n",
    "reduction = 14 # [ ]\n",
    "EA_out_radius =  5 # [mm]\n",
    "cable_length = 500 # [mm]\n",
    "# Dyneema SK78 3mm\n",
    "cable_max_load = 14.8*1000 # [N]\n",
    "cable_elong_at_max_load = 4.2/100 # [ ]\n",
    "cable_stretch_modulus = cable_max_load / cable_elong_at_max_load # [N] (assumes linear properties)\n",
    "\n",
    "# Computations\n",
    "EA_torque_out = F*EA_out_radius # [mNm]\n",
    "cable_elong = F/cable_stretch_modulus * cable_length\n",
    "travel = brake_travel*F/F_MAX_TEST + cable_elong # assumes a linear relation between the brake pedal travel and force applied\n",
    "\n",
    "\n",
    "# Results presentation\n",
    "print(\"Maximal values :\")\n",
    "print(f\"The needed torque for an out radius of {EA_out_radius} mm is {round(EA_torque_out[NB_SAMPLE-1])} mNm, which is {round(EA_torque_out[NB_SAMPLE-1]/reduction)} mNm at the EA.\")\n",
    "print(f\"The output would make {round((brake_travel + cable_elong[NB_SAMPLE-1])/(2*EA_out_radius*np.pi),2)} turn(s) to achieve full range.\")\n",
    "print(f\"The cable elongation is {round(cable_elong[NB_SAMPLE-1]/cable_length*100,1)} % ({round(cable_elong[NB_SAMPLE-1],1)} mm) when locking the wheels.\")\n",
    "\n",
    "plt.plot(EA_torque_out/reduction, travel-cable_elong, label='Without cable elongation')\n",
    "plt.plot(EA_torque_out/reduction, travel, label='With cable elongation')\n",
    "# plt.vlines(F_MAX_TEST, 0, travel[NB_SAMPLE-1], colors='red', linestyles='dashed', label='Force max')\n",
    "# plt.hlines(brake_travel, 0, F_MAX_TEST, colors='red', linestyles='dotted', label='Min. pedal travel')\n",
    "\n",
    "plt.legend(loc=\"best\")\n",
    "plt.xlabel(\"Torque applied [mNm]\")\n",
    "plt.ylabel(\"Travel [mm]\")\n",
    "plt.title(\"Pedal travel as a function of the torque applied (plot limited to useful range)\")\n",
    "plt.grid()\n",
    "\n",
    "\n",
    "plt.show()"
   ]
  },
  {
   "cell_type": "markdown",
   "id": "e47e202a",
   "metadata": {},
   "source": [
    "## EBS\n",
    "### Materials"
   ]
  },
  {
   "cell_type": "code",
   "execution_count": 11,
   "id": "8f416e33",
   "metadata": {
    "ExecuteTime": {
     "end_time": "2022-01-04T15:00:45.925705Z",
     "start_time": "2022-01-04T15:00:45.910907Z"
    }
   },
   "outputs": [],
   "source": [
    "UD = {'sigma_max' : 1000, #[MPa]\n",
    "        'E' : 175*1000, #[MPa]\n",
    "        'rho' : 1.60/1000, #[g/mm^3]\n",
    "        'tau_max' : 60, #[MPa]\n",
    "        'G' : 5*1000 #[MPa]\n",
    "        }\n",
    "standard = {'sigma_max' : 600, #[MPa]\n",
    "        'E' : 70*1000, #[MPa]\n",
    "        'rho' : 1.60/1000, #[g/mm^3]\n",
    "        'tau_max' : 90, #[MPa]\n",
    "        'G' : 5*1000 #[MPa]\n",
    "        }\n",
    "aluminium_7075T6 = {'tau_max' : 330, #[MPa]\n",
    "                    'G' : 26.9*1000, #[MPa]\n",
    "                    'rho' : 2.70/1000, #[g/mm^3]\n",
    "                    'E' : 70 *1000, #[MPa]\n",
    "                    'sigma_max' : 480 #[MPa]\n",
    "                     }\n",
    "materials = {'UD' : UD, 'STD' : standard, 'alu' : aluminium_7075T6}"
   ]
  },
  {
   "cell_type": "markdown",
   "id": "bf37c43e",
   "metadata": {},
   "source": [
    "### Flexing beam liked to pedal by a wire\n",
    "We consider that the wire is attached at the top of the pedal and at the top of the flexing member, and that the forces are colinear with the direction of travel.\n",
    "\n",
    "\n",
    "#### Parameters\n",
    "The standard carbon fiber properties come from [here](https://www.azom.com/article.aspx?ArticleID=1995)."
   ]
  },
  {
   "cell_type": "code",
   "execution_count": 12,
   "id": "2da75f41",
   "metadata": {
    "ExecuteTime": {
     "end_time": "2022-01-04T15:00:45.941662Z",
     "start_time": "2022-01-04T15:00:45.926702Z"
    }
   },
   "outputs": [
    {
     "name": "stdout",
     "output_type": "stream",
     "text": [
      "0.002837837837837838\n"
     ]
    }
   ],
   "source": [
    "# Safety Factor\n",
    "SF = 1.5 #[ ]\n",
    "\n",
    "F = pedal_total_force #[N]\n",
    "\n",
    "# Cable parameters\n",
    "cable_length = 700 # [mm]\n",
    "# Dyneema SK78 3mm\n",
    "cable_max_load = 14.8*1000 # [N]\n",
    "cable_elong_at_max_load = 4.2/100 # [ ]\n",
    "# # Zylon Z12 3mm\n",
    "# cable_max_load = 14.6*1000 # [N]\n",
    "# cable_elong_at_max_load = 2.7/100 # [ ]\n",
    "cable_stretch_modulus = cable_max_load / cable_elong_at_max_load # [N] (assumes linear properties)\n",
    "print(1000/cable_stretch_modulus)"
   ]
  },
  {
   "cell_type": "markdown",
   "id": "023c9161",
   "metadata": {},
   "source": [
    "#### Functions"
   ]
  },
  {
   "cell_type": "code",
   "execution_count": 13,
   "id": "5ef81645",
   "metadata": {
    "ExecuteTime": {
     "end_time": "2022-01-04T15:00:45.957619Z",
     "start_time": "2022-01-04T15:00:45.942660Z"
    },
    "code_folding": [
     13,
     69
    ]
   },
   "outputs": [],
   "source": [
    "data_template = {\n",
    "    \"F\": 0,             # Force in the spring\n",
    "    \"w\": 0,             # Spring deflection\n",
    "    \"cable_elong\": 0,   # Cable elongation due to tension\n",
    "    \"travel\": 0         # Pedal travel\n",
    "}\n",
    "\n",
    "result_template = {\n",
    "    \"bottom\" : data_template,\n",
    "    \"breaking\" : data_template,\n",
    "    \"relation\" : data_template\n",
    "}\n",
    "\n",
    "def beam_h_linear_decrease(h1, h2, b, l, F_bottom, travel_required):\n",
    "    '''\n",
    "    Computes the flexion of a beam with linear thickness decrease.\n",
    "    \n",
    "    Params :\n",
    "    h1 : maximal thickness\n",
    "    h2 : minimal thickness\n",
    "    b : width\n",
    "    l : length\n",
    "    F_bottom : force requiered at the bottom of the spring travel\n",
    "    travel_required : travel needed, for bottom to top\n",
    "    '''\n",
    "    result = []\n",
    "    \n",
    "    m = (h1-h2)/l #[ ] slope of the beam\n",
    "\n",
    "    # samples to find max strain\n",
    "    NB_SAMPLE_X = 1000\n",
    "    x = np.linspace(1,l,NB_SAMPLE_X) \n",
    "\n",
    "    for mx in materials:\n",
    "        result.append(result_template.copy())\n",
    "        \n",
    "        # travel at the bottom of the pedal travel\n",
    "        bottom = data_template.copy()\n",
    "        bottom[\"F\"] = F_bottom\n",
    "        C1 = (2*m*l+h2)/(2*m**2*(m*l+h2)**2) # border condition: beam does not change angle at the mount\n",
    "        C2 = np.log(m*l+h2)/m**3 + h2/(2*m**3*(m*l+h2)) - C1*l # border condition: beam does not change position at the mount\n",
    "        bottom[\"w\"] = 12*bottom[\"F\"]/(b*materials[mx]['E'])*(-np.log(h2)/m**3 - h2/(2*m**3*(h2)) + C2)\n",
    "        bottom[\"cable_elong\"] = bottom[\"F\"]/cable_stretch_modulus*cable_length\n",
    "        bottom[\"travel\"] = bottom[\"w\"] - bottom[\"cable_elong\"]\n",
    "        result[-1][\"bottom\"] = bottom\n",
    "\n",
    "        # force and travel to break spring\n",
    "        breaking = data_template.copy()\n",
    "        breaking[\"F\"] = min((materials[mx]['sigma_max']*b*(m*x+h2)**2)/(6*SF*x))\n",
    "        breaking[\"w\"] = 12*breaking[\"F\"]/(b*materials[mx]['E'])*(-np.log(h2)/m**3 - h2/(2*m**3*(h2)) + C2)\n",
    "        breaking[\"cable_elong\"] = breaking[\"F\"]/cable_stretch_modulus*cable_length\n",
    "        breaking[\"travel\"] = breaking[\"w\"] - breaking[\"cable_elong\"]\n",
    "        result[-1][\"breaking\"] = breaking\n",
    "\n",
    "        # force to travel relation\n",
    "        relation = data_template.copy()\n",
    "        F_MIN_TEST = 0\n",
    "        F_MAX_TEST = breaking[\"F\"]*1.2\n",
    "        NB_SAMPLE_F = 200\n",
    "\n",
    "        relation[\"F\"] = np.linspace(F_MIN_TEST,F_MAX_TEST,NB_SAMPLE_F) # [N]\n",
    "        relation[\"w\"] = 12*relation[\"F\"]/(b*materials[mx]['E'])*(-np.log(h2)/m**3-h2/(2*m**3*(h2))+C2)\n",
    "        relation[\"cable_elong\"] = relation[\"F\"]/cable_stretch_modulus*cable_length\n",
    "        relation[\"travel\"] = relation[\"w\"] - relation[\"cable_elong\"] # assumes a linear relation between the brake pedal travel and force applied\n",
    "        result[-1][\"relation\"] = relation\n",
    "    \n",
    "    return result\n",
    "\n",
    "\n",
    "def beam_standard(h, b, l, F_bottom, travel_required):\n",
    "    '''\n",
    "    Computes the flexion of a standard prismatic beam with linear thickness decrease.\n",
    "    \n",
    "    Params :\n",
    "    h : thickness\n",
    "    b : width\n",
    "    l : length\n",
    "    F_bottom : force requiered at the bottom of the spring travel\n",
    "    travel_required : travel needed, for bottom to top\n",
    "    '''\n",
    "    result = []\n",
    "    \n",
    "    for mx in materials:\n",
    "        result.append(result_template.copy())\n",
    "        \n",
    "        k = materials[mx]['E']*b*h**3/(4*l**3) # [N/mm] rigidity ot the beam\n",
    "\n",
    "        # travel at the bottom of the pedal travel\n",
    "        bottom = data_template.copy()\n",
    "        bottom[\"F\"] = F_bottom\n",
    "        bottom[\"w\"] = bottom[\"F\"]/k\n",
    "        bottom[\"cable_elong\"] = bottom[\"F\"]/cable_stretch_modulus*cable_length\n",
    "        bottom[\"travel\"] = bottom[\"w\"] - bottom[\"cable_elong\"]\n",
    "        result[-1][\"bottom\"] = bottom    \n",
    "\n",
    "        # force and travel to break spring\n",
    "        breaking = data_template.copy()\n",
    "        breaking[\"F\"] = (materials[mx]['sigma_max']*b*h**2)/(6*l*SF)\n",
    "        breaking[\"w\"] =  breaking[\"F\"]/k\n",
    "        breaking[\"cable_elong\"] = breaking[\"F\"]/cable_stretch_modulus*cable_length\n",
    "        breaking[\"travel\"] = breaking[\"w\"] - breaking[\"cable_elong\"]\n",
    "        result[-1][\"breaking\"] = breaking\n",
    "\n",
    "        # force to travel relation\n",
    "        relation = data_template.copy()\n",
    "        F_MIN_TEST = 0\n",
    "        F_MAX_TEST = breaking[\"F\"]*1.2\n",
    "        NB_SAMPLE_F = 200\n",
    "\n",
    "        relation[\"F\"] = np.linspace(F_MIN_TEST,F_MAX_TEST,NB_SAMPLE_F) # [N]\n",
    "        relation[\"w\"] =  relation[\"F\"]/k\n",
    "        relation[\"cable_elong\"] = relation[\"F\"]/cable_stretch_modulus*cable_length\n",
    "        relation[\"travel\"] = relation[\"w\"] - relation[\"cable_elong\"] # assumes a linear relation between the brake pedal travel and force applied\n",
    "        result[-1][\"relation\"] = relation\n",
    "    \n",
    "    return result"
   ]
  },
  {
   "cell_type": "code",
   "execution_count": 14,
   "id": "a6aaa2c0",
   "metadata": {
    "ExecuteTime": {
     "end_time": "2022-01-04T15:00:45.973579Z",
     "start_time": "2022-01-04T15:00:45.958617Z"
    },
    "code_folding": [
     0
    ]
   },
   "outputs": [],
   "source": [
    "def display_beam_plot(result, travel_required):\n",
    "    '''\n",
    "    Plot the results from the beam computation.\n",
    "    '''\n",
    "    colors = ['purple', 'orange', 'green']\n",
    "    i = 0\n",
    "    for mx in materials:\n",
    "        # force deflextion relation\n",
    "        plt.plot(result[i][\"relation\"][\"F\"], result[i][\"relation\"][\"travel\"], label='Pedal tip '+mx, linewidth=3, color=colors[i])\n",
    "        plt.plot(result[i][\"relation\"][\"F\"], result[i][\"relation\"][\"w\"], label='Spring tip '+mx, color=colors[i])\n",
    "\n",
    "        # breaking points\n",
    "        plt.scatter([result[i][\"breaking\"][\"F\"], result[i][\"breaking\"][\"F\"]], [result[i][\"breaking\"][\"travel\"], result[i][\"breaking\"][\"w\"]], marker=\"+\", color='red', s=200, label='Spring breaks '+mx)\n",
    "    \n",
    "        # indication lines\n",
    "        plt.hlines(travel_required+result[i][\"bottom\"][\"travel\"], 0, result[i][\"relation\"][\"F\"][-1], colors=colors[i], linestyles='dashed', label='Travel for no braking')\n",
    "        plt.hlines(result[i][\"bottom\"][\"travel\"], 0, result[i][\"relation\"][\"F\"][-1], colors='black', linestyles='dotted', label='Travel for locking the wheels')\n",
    "        \n",
    "        i += 1\n",
    "    \n",
    "    plt.vlines(result[1][\"bottom\"][\"F\"], 0, result[1][\"relation\"][\"travel\"][-1], colors='black', linestyles='dotted', label='Force for locking the wheels')\n",
    "    \n",
    "    # legend etc\n",
    "    plt.legend(loc=\"best\")\n",
    "    plt.xlabel(\"Force applied [N]\")\n",
    "    plt.ylabel(\"Travel [mm]\")\n",
    "    plt.title(\"Part travel as a function of the force applied\")\n",
    "    plt.grid()\n",
    "\n",
    "\n",
    "    plt.show()"
   ]
  },
  {
   "cell_type": "markdown",
   "id": "b91c2403",
   "metadata": {},
   "source": [
    "#### Beam with linear thickness decrease\n",
    "(the two following simulations are coherent !)\n",
    "\n",
    "Some good sets of parameters (SF = 1.5):\n",
    "\n",
    "h1 = 12\n",
    "h2 = 4\n",
    "b = 45\n",
    "l = 400\n",
    "Long but low forces\n",
    "\n",
    "h1 = 12\n",
    "h2 = 4\n",
    "b = 85\n",
    "l = 300\n",
    "Short but high forces\n",
    "\n",
    "Some good sets of parameters (SF = 2):\n",
    "\n",
    "h1 = 15\n",
    "h2 = 6\n",
    "b = 65\n",
    "l = 450"
   ]
  },
  {
   "cell_type": "code",
   "execution_count": 15,
   "id": "53ea5088",
   "metadata": {
    "ExecuteTime": {
     "end_time": "2022-01-04T15:00:46.131114Z",
     "start_time": "2022-01-04T15:00:45.974577Z"
    }
   },
   "outputs": [
    {
     "name": "stdout",
     "output_type": "stream",
     "text": [
      "The spring would weight 705.6 g.\n",
      "1194.6666666666667\n",
      "60.0\n"
     ]
    },
    {
     "data": {
      "image/png": "[encoded data removed]",
      "text/plain": [
       "<Figure size 936x648 with 1 Axes>"
      ]
     },
     "metadata": {
      "needs_background": "light"
     },
     "output_type": "display_data"
    }
   ],
   "source": [
    "h1 = 14 #[mm] thickest point\n",
    "h2 = 14 #[mm] thinnest point\n",
    "b = 60 #[mm] width\n",
    "l = 525 #[mm] length\n",
    "\n",
    "F_bottom = F\n",
    "travel_required = brake_travel\n",
    "\n",
    "# Compute beam flection\n",
    "# result = beam_h_linear_decrease(h1, h2, b, l, F_bottom, travel_required)\n",
    "result = beam_standard(h1, b, l, F_bottom, travel_required)\n",
    "    \n",
    "# Result presentation\n",
    "print(f\"The spring would weight {round(materials['STD']['rho']*b*l*(h1+h2)/2,1)} g.\")\n",
    "#print(f\"The max strain is situated {round(np.argmin((sigma_max*b*(m*x+h2)**2)/(6*SF*x))*l/NB_SAMPLE_X)} mm from the tip.\")\n",
    "print(result[2]['breaking']['F'])\n",
    "print(result[2]['breaking']['w'])\n",
    "\n",
    "display_beam_plot(result, travel_required)"
   ]
  },
  {
   "cell_type": "markdown",
   "id": "7dcd2d29",
   "metadata": {},
   "source": [
    "#### Bows in serie\n",
    "Allows to have no torque applied on the support, and can put many in serie to have more displacement.\n",
    "\n",
    "Computation is done for a half bow. The result is the extrapolated.\n",
    "\n",
    "Two good options (SF = 2)\n",
    "* N = 4, b = 40, l = 160, h1 = 7, h_dim = 3   => 573.4 g\n",
    "* N = 2, b = 40, l = 270, h1 = 9, h_dim = 3   => 622.1 g"
   ]
  },
  {
   "cell_type": "code",
   "execution_count": 16,
   "id": "734f50eb",
   "metadata": {
    "ExecuteTime": {
     "end_time": "2022-01-04T15:00:46.271872Z",
     "start_time": "2022-01-04T15:00:46.132112Z"
    },
    "scrolled": false
   },
   "outputs": [
    {
     "data": {
      "image/png": "[encoded data removed]",
      "text/plain": [
       "<Figure size 936x648 with 1 Axes>"
      ]
     },
     "metadata": {
      "needs_background": "light"
     },
     "output_type": "display_data"
    },
    {
     "name": "stdout",
     "output_type": "stream",
     "text": [
      "The spring would weight 501.8 g.\n",
      "2057.1428749126917\n",
      "62.63738927512955\n"
     ]
    }
   ],
   "source": [
    "N = 4 #[ ] (number of bows in serie)\n",
    "b = 30 #[mm] (width of one bow)\n",
    "l = 140 #[mm] (length of a half bow)\n",
    "h = 9 # [mm] (thickness of the bow)\n",
    "h_dim = 3 # [ ] (diminution factor)\n",
    "\n",
    "F_bottom = F/2\n",
    "travel_required = brake_travel/N\n",
    "\n",
    "# Compute beam flection\n",
    "result = beam_h_linear_decrease(h, h/h_dim, b, l, F_bottom, travel_required)\n",
    "# result = beam_standard(h, b, l, F_bottom, travel_required)\n",
    "    \n",
    "# # Result presentation\n",
    "# print(f\"The {N} bows would weight {round(rho*b*l*h*N*2,1)} g in total.\")\n",
    "# print(f\"\\nABSOLUTE MAXIMUMS (SF = 1):\\nFor a 3 point flexion test, the bow would break at {round(2*result['breaking']['F']*SF)} N.\")\n",
    "# print(f\"The travel would be {round(result['breaking']['w']*SF)} mm.\")\n",
    "\n",
    "# Adjusting the values to have the plot for the whole system\n",
    "# - Doubling the force because force in the cable is 2* force in the half bow\n",
    "# - Multiplying the deflextion by N because N half bows are in serie\n",
    "for i in range(len(materials)):\n",
    "    for title in result[i]:\n",
    "        data = result[i][title]\n",
    "        data[\"F\"] *= 2\n",
    "        data[\"w\"] *= N\n",
    "        data[\"cable_elong\"] = data[\"F\"]/cable_stretch_modulus*cable_length\n",
    "        data[\"travel\"] = data[\"w\"] - data[\"cable_elong\"]\n",
    "        result[i][title] = data\n",
    "\n",
    "display_beam_plot(result, brake_travel)\n",
    "print(f\"The spring would weight {round(N*2*materials['STD']['rho']*b*l*(h1+h1/h_dim)/2,1)} g.\")\n",
    "print(result[1]['breaking']['F'])\n",
    "print(result[1]['breaking']['w'])"
   ]
  },
  {
   "cell_type": "markdown",
   "id": "abe41f8e",
   "metadata": {},
   "source": [
    "### Pneumatic reservoir and piston\n",
    "A reservoir would contain some pressurized air. A normally open valve placed at the end of the reservoir would link it to the piston. [Here](https://www.viaircorp.com/air-tanks/05gallon) is a example of a 0.5 gallon air tank. It weight 2 kg and measures D = 152.5 mm, L = 146 mm\n",
    "\n",
    "res = reservoir ; pis = piston"
   ]
  },
  {
   "cell_type": "code",
   "execution_count": 17,
   "id": "9af66a3c",
   "metadata": {
    "ExecuteTime": {
     "end_time": "2022-01-04T15:00:46.286941Z",
     "start_time": "2022-01-04T15:00:46.272870Z"
    }
   },
   "outputs": [
    {
     "name": "stdout",
     "output_type": "stream",
     "text": [
      "The tank need to be pressurized at > 5.9 bars = 86.1 psi.\n",
      "The max allowed pressure is 10 bars. (Rule T 9.1.1)\n",
      "The pressure lost at each activation of the EBS is 0.16 bars = 2.4 psi.\n",
      "With an initial pressure of 10 bars, the EBS can be run 19.0 times\n"
     ]
    }
   ],
   "source": [
    "res_V = 0.5 * 4546092 #[mm^3] factor is to convert from galons\n",
    "pis_D = 40 #[mm]\n",
    "line_V = np.pi * 1000 * 5**2 / 4 #[mm^3]\n",
    "F = pedal_total_force #[N]\n",
    "x = brake_travel #[mm]\n",
    "P_start = 1 #[MPa]\n",
    "\n",
    "pis_A = np.pi * pis_D**2 / 4\n",
    "# One time EBS\n",
    "P_open = F / pis_A\n",
    "V_open = res_V + line_V + x*pis_A\n",
    "P_close = P_open * V_open / res_V\n",
    "\n",
    "# How much time EBS\n",
    "N = np.log(P_start/P_open) / np.log(V_open/res_V)\n",
    "\n",
    "print(f\"The tank need to be pressurized at > {round(P_close*10,1)} bars = {round(P_close/0.006894757,1)} psi.\")\n",
    "print(\"The max allowed pressure is 10 bars. (Rule T 9.1.1)\")\n",
    "print(f\"The pressure lost at each activation of the EBS is {round((P_close-P_open)*10,2)} bars = {round((P_close-P_open)/0.006894757,1)} psi.\")\n",
    "print(f\"With an initial pressure of {P_start*10} bars, the EBS can be run {N//1} times\")"
   ]
  },
  {
   "cell_type": "markdown",
   "id": "1d205117",
   "metadata": {},
   "source": [
    "### Torsion bar\n",
    "[Shear stess from tensile stress](https://roymech.org/Useful_Tables/Matter/shear_tensile.html)\n",
    "\n",
    "[Alu alloys properties](https://www.engineeringtoolbox.com/properties-aluminum-pipe-d_1340.html)\n",
    "\n",
    "[Alu 7075-T6](https://matmatch.com/learn/material/7075-t6-aluminium)\n",
    "\n",
    "[Torsion of rectangle beam](https://engineeringlibrary.org/reference/beam-torsion-air-force-stress-manual)"
   ]
  },
  {
   "cell_type": "markdown",
   "id": "90c95f2c",
   "metadata": {},
   "source": [
    "#### Round bar + rectangle flex"
   ]
  },
  {
   "cell_type": "code",
   "execution_count": 18,
   "id": "328312d8",
   "metadata": {
    "ExecuteTime": {
     "end_time": "2022-01-04T15:00:46.302667Z",
     "start_time": "2022-01-04T15:00:46.287893Z"
    }
   },
   "outputs": [
    {
     "name": "stdout",
     "output_type": "stream",
     "text": [
      "travel = 35 mm\n",
      "travel_a = 13.4°\n",
      "force = 725 N\n",
      "\n",
      "ka_bar = 931893 Nmm/rad\n",
      "k_lame = 259 N/mm\n",
      "k = 36 N/mm\n",
      "F_max_travel = 1981 N\n",
      "M_max_travel = 297 Nm\n",
      "\n",
      "M_max = 447 Nm\n",
      "Actual max M is 66.4% of M_max.\n",
      "F_max = 3333 N\n",
      "Actual max F is 59.4% of F_max.\n",
      "Actual w_max = 55.5 mm\n",
      "\n",
      "SF ~= 1.51.\n",
      "\n",
      "\n",
      "The total mass is 1477 g.\n"
     ]
    }
   ],
   "source": [
    "bar_mx = materials['STD']\n",
    "bar_lever_mx = materials['STD']\n",
    "bar_length = 400 # [mm]\n",
    "bar_D = 30 # [mm] diamètre extérieur\n",
    "bar_d = 15 # [mm] diamètre intérieur\n",
    "bar_lever_l = 150 # [mm] length\n",
    "bar_lever_w = 50 # [mm] width\n",
    "bar_lever_t = 10 # [mm] thickness\n",
    "\n",
    "travel_required = brake_travel\n",
    "min_force_required = pedal_total_force\n",
    "\n",
    "print(f\"travel = {round(brake_travel)} mm\")\n",
    "print(f\"travel_a = {round((brake_travel/(bar_lever_l))*180/math.pi,1)}°\")\n",
    "print(f\"force = {round(pedal_total_force)} N\\n\")\n",
    "\n",
    "# Required forces etc\n",
    "k_bar_angular = bar_mx['G']*math.pi*(bar_D**4-bar_d**4)/(32*bar_length)\n",
    "k_bar_lever = bar_lever_mx['E']*bar_lever_w*bar_lever_t**3/(4*bar_lever_l**3)\n",
    "k_linear = k_bar_angular/(bar_lever_l**2) * k_bar_lever/(k_bar_angular/(bar_lever_l**2) + k_bar_lever)\n",
    "\n",
    "F_at_max_travel = min_force_required + travel_required*k_linear\n",
    "M_at_max_travel = F_at_max_travel*bar_lever_l\n",
    "\n",
    "print(f\"ka_bar = {round(k_bar_angular)} Nmm/rad\")\n",
    "print(f\"k_lame = {round(k_bar_lever)} N/mm\")\n",
    "print(f\"k = {round(k_linear)} N/mm\")\n",
    "print(f\"F_max_travel = {round(F_at_max_travel)} N\")\n",
    "print(f\"M_max_travel = {round(M_at_max_travel/1000)} Nm\")\n",
    "\n",
    "\n",
    "\n",
    "# Check if it deforms plastically\n",
    "M_max = bar_mx['tau_max']*math.pi*(bar_D**4-bar_d**4)/(16*bar_D)\n",
    "F_max = bar_lever_mx['sigma_max']*bar_lever_w*bar_lever_t**2/(6*bar_lever_l)\n",
    "\n",
    "print(f\"\\nM_max = {round(M_max/1000)} Nm\")\n",
    "print(f\"Actual max M is {round(M_at_max_travel/M_max*100,1)}% of M_max.\")\n",
    "\n",
    "print(f\"F_max = {round(F_max)} N\")\n",
    "print(f\"Actual max F is {round(F_at_max_travel/F_max*100,1)}% of F_max.\")\n",
    "\n",
    "print(f\"Actual w_max = {round(F_at_max_travel/k_linear,1)} mm\")\n",
    "\n",
    "print(f\"\\nSF ~= {round(min(F_max/F_at_max_travel, M_max/M_at_max_travel),2)}.\")\n",
    "\n",
    "# Compute the weight of the system\n",
    "m_bar = bar_length*(bar_D**2-bar_d**2)*math.pi*bar_mx['rho']\n",
    "m_bar_lever = bar_lever_l*bar_lever_t*bar_lever_w*bar_lever_mx['rho']\n",
    "\n",
    "print(f\"\\n\\nThe total mass is {round(m_bar+m_bar_lever)} g.\")"
   ]
  },
  {
   "cell_type": "markdown",
   "id": "9c34a1e1",
   "metadata": {},
   "source": [
    "#### L shape"
   ]
  },
  {
   "cell_type": "code",
   "execution_count": 19,
   "id": "4ae4943f",
   "metadata": {
    "ExecuteTime": {
     "end_time": "2022-01-04T15:00:46.318584Z",
     "start_time": "2022-01-04T15:00:46.303626Z"
    }
   },
   "outputs": [
    {
     "name": "stdout",
     "output_type": "stream",
     "text": [
      "travel = 35 mm\n",
      "travel_a = 20.1°\n",
      "force = 725 N\n",
      "\n",
      "ka_bar = 143276 Nmm/rad\n",
      "k_lame = 16800 N/mm\n",
      "k = 14 N/mm\n",
      "F_max_travel = 1229 N\n",
      "M_max_travel = 123 Nm\n",
      "\n",
      "M_max = 220 Nm\n",
      "Actual max M is 55.7% of M_max.\n",
      "F_max = 24000 N\n",
      "Actual max F is 5.1% of F_max.\n",
      "Actual w_max = 85.8 mm\n",
      "\n",
      "SF ~= 1.79.\n",
      "\n",
      "\n",
      "The total mass is 480 g.\n"
     ]
    }
   ],
   "source": [
    "bar_mx = materials['STD']\n",
    "bar_lever_mx = materials['STD']\n",
    "bar_l = 400 # [mm]\n",
    "bar_w = 40 # [mm] width\n",
    "bar_t = 15 # [mm] thickness\n",
    "bar_lever_l = 100 # [mm] length\n",
    "bar_lever_w = 15 # [mm] width\n",
    "bar_lever_t = 40 # [mm] thickness\n",
    "\n",
    "\n",
    "travel_required = brake_travel\n",
    "min_force_required = pedal_total_force\n",
    "\n",
    "print(f\"travel = {round(brake_travel)} mm\")\n",
    "print(f\"travel_a = {round((brake_travel/(bar_lever_l))*180/math.pi,1)}°\")\n",
    "print(f\"force = {round(pedal_total_force)} N\\n\")\n",
    "\n",
    "# Required forces etc\n",
    "beta = (1-0.63*bar_t/bar_w*(1-bar_t**4/bar_w**4/12))/3\n",
    "k_bar_angular = bar_mx['G']*bar_w*bar_t**3*beta/(3*bar_l)\n",
    "k_bar_lever = bar_lever_mx['E']*bar_lever_w*bar_lever_t**3/(4*bar_lever_l**3)\n",
    "k_linear = k_bar_angular/(bar_lever_l**2) * k_bar_lever/(k_bar_angular/(bar_lever_l**2) + k_bar_lever)\n",
    "\n",
    "F_at_max_travel = min_force_required + travel_required*k_linear\n",
    "M_at_max_travel = F_at_max_travel*bar_lever_l\n",
    "\n",
    "print(f\"ka_bar = {round(k_bar_angular)} Nmm/rad\")\n",
    "print(f\"k_lame = {round(k_bar_lever)} N/mm\")\n",
    "print(f\"k = {round(k_linear)} N/mm\")\n",
    "print(f\"F_max_travel = {round(F_at_max_travel)} N\")\n",
    "print(f\"M_max_travel = {round(M_at_max_travel/1000)} Nm\")\n",
    "\n",
    "\n",
    "\n",
    "# Check if it deforms plastically\n",
    "alpha = 1/(3 + 1.8*bar_t/bar_w)\n",
    "M_max = bar_mx['tau_max']*alpha*bar_w*bar_t**2\n",
    "F_max = bar_lever_mx['sigma_max']*bar_lever_w*bar_lever_t**2/(6*bar_lever_l)\n",
    "\n",
    "print(f\"\\nM_max = {round(M_max/1000)} Nm\")\n",
    "print(f\"Actual max M is {round(M_at_max_travel/M_max*100,1)}% of M_max.\")\n",
    "\n",
    "print(f\"F_max = {round(F_max)} N\")\n",
    "print(f\"Actual max F is {round(F_at_max_travel/F_max*100,1)}% of F_max.\")\n",
    "\n",
    "print(f\"Actual w_max = {round(F_at_max_travel/k_linear,1)} mm\")\n",
    "\n",
    "print(f\"\\nSF ~= {round(min(F_max/F_at_max_travel, M_max/M_at_max_travel),2)}.\")\n",
    "\n",
    "\n",
    "# Compute the weight of the system\n",
    "m_bar = bar_l*bar_t*bar_w*bar_mx['rho']\n",
    "m_bar_lever = bar_lever_l*bar_lever_t*bar_lever_w*bar_lever_mx['rho']\n",
    "\n",
    "print(f\"\\n\\nThe total mass is {round(m_bar+m_bar_lever)} g.\")"
   ]
  },
  {
   "cell_type": "markdown",
   "id": "fc49ec2d",
   "metadata": {},
   "source": [
    "### Retention mechanism\n",
    "#### Parameters"
   ]
  },
  {
   "cell_type": "code",
   "execution_count": 36,
   "id": "bdfa0af8",
   "metadata": {
    "ExecuteTime": {
     "end_time": "2022-01-04T15:02:11.181197Z",
     "start_time": "2022-01-04T15:02:11.163767Z"
    }
   },
   "outputs": [],
   "source": [
    "frict_coef = 0.1\n",
    "force_preload = 2370 # [N]"
   ]
  },
  {
   "cell_type": "markdown",
   "id": "9d19ae2f",
   "metadata": {},
   "source": [
    "#### Simple cotter pin"
   ]
  },
  {
   "cell_type": "code",
   "execution_count": 37,
   "id": "c676c7ad",
   "metadata": {
    "ExecuteTime": {
     "end_time": "2022-01-04T15:02:11.647920Z",
     "start_time": "2022-01-04T15:02:11.637943Z"
    }
   },
   "outputs": [
    {
     "name": "stdout",
     "output_type": "stream",
     "text": [
      "The force required to pull the pin is about 237.0 N.\n"
     ]
    }
   ],
   "source": [
    "F_release = frict_coef * force_preload\n",
    "\n",
    "print(f\"The force required to pull the pin is about {round(F_release,1)} N.\")"
   ]
  },
  {
   "cell_type": "markdown",
   "id": "077a1270",
   "metadata": {},
   "source": [
    "#### Crossbow trigger\n",
    "For the dimensions meaning, please refer to the picture."
   ]
  },
  {
   "cell_type": "code",
   "execution_count": 40,
   "id": "94b38ff4",
   "metadata": {
    "ExecuteTime": {
     "end_time": "2022-01-04T15:02:37.899927Z",
     "start_time": "2022-01-04T15:02:37.884969Z"
    }
   },
   "outputs": [
    {
     "name": "stdout",
     "output_type": "stream",
     "text": [
      "The force required to release the trigger is about 6.02 N.\n",
      "It would be about 32 x 187 mm.\n"
     ]
    }
   ],
   "source": [
    "# parameters\n",
    "AB = 100 # [mm]\n",
    "BC = 20 # [mm]\n",
    "CD = 70 # [mm]\n",
    "DE = 20 # [mm]\n",
    "ABC = 90 # [°]\n",
    "CDE = 70 # [°]\n",
    "shaft_diam = 6 # [mm]\n",
    "\n",
    "\n",
    "# release force estimation\n",
    "CDE = np.deg2rad(CDE)\n",
    "T_shaftB = shaft_diam*force_preload*frict_coef * (DE/CD) * np.cos(CDE)\n",
    "F_release = force_preload*frict_coef * (DE/CD) * (BC/AB) * np.cos(CDE) + T_shaftB/AB\n",
    "\n",
    "# print result\n",
    "print(f\"The force required to release the trigger is about {round(F_release,2)} N.\")\n",
    "print(f\"It would be about {round(max(BC,DE)*1.6)} x {round((AB+CD)*1.1)} mm.\")"
   ]
  },
  {
   "cell_type": "code",
   "execution_count": 39,
   "id": "224facc7",
   "metadata": {
    "ExecuteTime": {
     "end_time": "2022-01-04T15:02:13.975271Z",
     "start_time": "2022-01-04T15:02:13.967293Z"
    }
   },
   "outputs": [
    {
     "name": "stdout",
     "output_type": "stream",
     "text": [
      "393.5890538681078\n"
     ]
    }
   ],
   "source": [
    "# To inspect element\n",
    "print(force_preload/F_release)"
   ]
  },
  {
   "cell_type": "markdown",
   "id": "0a3e848f",
   "metadata": {},
   "source": [
    "# Component selection\n",
    "## SB actuator\n",
    "We have 4 options that fulfill the force criterion :\n",
    "* [NEMA 17](https://en.nanotec.com/products/376-st4118l3004-b) with [reduction](https://en.nanotec.com/products/2727-gp42-s2-15-sr) and [encoder](https://en.nanotec.com/products/243-weds5541-b14-5-mm)\n",
    "* [NEMA 23](https://en.nanotec.com/products/2778-sca5618l4204-a2) with [reduction](https://en.nanotec.com/products/2683-gp56-s1-3-sr)\n",
    "* [NEMA 34](https://en.nanotec.com/products/574-st8918m6708-a)\n",
    "* [Linear actuator](https://www.ato.com/mini-linear-actuator)\n",
    "\n",
    "Respective variables have the prefix N1, N2, N3, L."
   ]
  },
  {
   "cell_type": "code",
   "execution_count": 24,
   "id": "6c0b7f8f",
   "metadata": {
    "ExecuteTime": {
     "end_time": "2022-01-04T15:00:46.395556Z",
     "start_time": "2022-01-04T15:00:46.381590Z"
    }
   },
   "outputs": [
    {
     "name": "stdout",
     "output_type": "stream",
     "text": [
      "Maximal pulley radius is 11.7 mm.\n",
      "It gives a cable speed of 48 mm/s.\n",
      "The maximal output torque is 8470 Nmm.\n"
     ]
    }
   ],
   "source": [
    "N = 15.4 # reduction ratio\n",
    "T_max = 550 # [Nmm] max torque \n",
    "v_at_T_max = 600/60*2*np.pi # [rad/s]\n",
    "\n",
    "max_r = N*T_max/pedal_total_force # [mm]\n",
    "v_long = v_at_T_max*T_max/pedal_total_force # [mm/s]\n",
    "\n",
    "print(f\"Maximal pulley radius is {round(max_r,1)} mm.\")\n",
    "print(f\"It gives a cable speed of {round(v_long)} mm/s.\")\n",
    "print(f\"The maximal output torque is {round(T_max*N)} Nmm.\")"
   ]
  },
  {
   "cell_type": "markdown",
   "id": "690e095a",
   "metadata": {},
   "source": [
    "### Actuators data"
   ]
  },
  {
   "cell_type": "code",
   "execution_count": 25,
   "id": "7b29c848",
   "metadata": {
    "ExecuteTime": {
     "end_time": "2022-01-04T15:00:46.410735Z",
     "start_time": "2022-01-04T15:00:46.396508Z"
    }
   },
   "outputs": [],
   "source": [
    "base_temp = 40 # [°C] (assuming a very hot day)\n",
    "max_temp = 100 # [°C]\n",
    "copper_specific_heat = 390 # [J/(kg*°C)]\n",
    "\n",
    "# ----- NEMA 17 -----\n",
    "N1_reduction = 15.45 # [ ]\n",
    "N1_max_torque = 0.531 # [Nm]\n",
    "N1_lever = 1000*N1_max_torque*N1_reduction/pedal_total_force # [mm]\n",
    "N1_speed_max_load = 450 # [rpm]\n",
    "N1_mass = 0.34 # [kg]\n",
    "N1_current = 3 # [A]\n",
    "N1_portion_that_heats = 0.5 # [ ]\n",
    "N1_resistance = 0.63*2 # [Ohm] (3 Ohms, 2 windings)\n",
    "N1_step = 1.8 # [°]\n",
    "\n",
    "\n",
    "\n",
    "# ----- NEMA 23 -----\n",
    "N2_reduction = 3.29 # [ ]\n",
    "N2_max_torque = 1.9 # [Nm]\n",
    "N2_lever = 1000*N2_max_torque/pedal_total_force # [mm]\n",
    "N2_speed_max_load = 190 # [rpm]\n",
    "N2_mass = 1.1 # [kg]\n",
    "N2_current = 4.2 # [A]\n",
    "N2_portion_that_heats = 0.5 # [ ]\n",
    "N2_resistance = 0.55*2 # [Ohm] (3 Ohms, 2 windings)\n",
    "N2_step = 1.8 # [°]\n",
    "\n",
    "\n",
    "# ----- N3 -----\n",
    "N3_reduction = 1 # [ ]\n",
    "N3_max_torque = 6.15 # [Nm]\n",
    "N3_lever = 1000*N3_max_torque/pedal_total_force # [mm]\n",
    "N3_speed_max_load = 37.5 # [rpm]\n",
    "N3_mass = 2.8 # [kg]\n",
    "N3_current = 6.7 # [A]\n",
    "N3_portion_that_heats = 0.5 # [ ]\n",
    "N3_resistance = 0.45*4 # [Ohm] (3 Ohms, 4 windings)\n",
    "N3_step = 1.8 # [°]\n",
    "\n",
    "# ----- L -----\n",
    "L_speed_no_load = 11.1 # [mm/s]\n",
    "L_speed_max_load = 8.9 # [mm/s]\n",
    "L_max_load = 850 # [N]\n",
    "L_mass = 3 # [kg]\n",
    "L_current = 4.7 # [A]\n",
    "L_portion_that_heats = 0.1 # [ ]"
   ]
  },
  {
   "cell_type": "code",
   "execution_count": 26,
   "id": "a7a28e1d",
   "metadata": {
    "ExecuteTime": {
     "end_time": "2022-01-04T15:00:46.426761Z",
     "start_time": "2022-01-04T15:00:46.411733Z"
    }
   },
   "outputs": [
    {
     "name": "stdout",
     "output_type": "stream",
     "text": [
      "8.477357763743218\n"
     ]
    }
   ],
   "source": [
    "print(N3_lever)"
   ]
  },
  {
   "cell_type": "markdown",
   "id": "f5e7b25f",
   "metadata": {},
   "source": [
    "### Time from 0 to Locked wheels\n",
    "We assume that the force on the pedal is linear with the travel, and that te relation between L_speed and load is linear."
   ]
  },
  {
   "cell_type": "code",
   "execution_count": 27,
   "id": "3ad8ca68",
   "metadata": {
    "ExecuteTime": {
     "end_time": "2022-01-04T15:00:46.442709Z",
     "start_time": "2022-01-04T15:00:46.427779Z"
    }
   },
   "outputs": [
    {
     "name": "stdout",
     "output_type": "stream",
     "text": [
      "1.0191962885438315\n",
      "2.2194918998765503\n",
      "1.0559867887156575\n",
      "3.9499252383441807\n"
     ]
    }
   ],
   "source": [
    "# ----- N1 -----\n",
    "N1_time_0_to_lock = brake_travel / (N1_speed_max_load/N1_reduction * np.pi/30 * N1_lever)\n",
    "print(N1_time_0_to_lock)\n",
    "\n",
    "# ----- N2 -----\n",
    "N2_time_0_to_lock = brake_travel / (N2_speed_max_load/N2_reduction * np.pi/30 * N2_lever)\n",
    "print(N2_time_0_to_lock)\n",
    "\n",
    "# ----- N3 -----\n",
    "N3_time_0_to_lock = brake_travel / (N3_speed_max_load/N3_reduction * np.pi/30 * N3_lever)\n",
    "print(N3_time_0_to_lock)\n",
    "\n",
    "# ----- L -----\n",
    "# L_speed_lock_wheel = (L_speed_max_load-L_speed_no_load) * pedal_total_force /L_max_load + L_speed_no_load\n",
    "\n",
    "# m = (L_speed_lock_wheel-L_speed_no_load)/brake_travel\n",
    "# h = L_speed_no_load\n",
    "\n",
    "# L_time_0_to_lock = 1/m * np.log(m*brake_travel/h + 1)\n",
    "L_time_0_to_lock = brake_travel / L_speed_max_load\n",
    "print(L_time_0_to_lock)"
   ]
  },
  {
   "cell_type": "markdown",
   "id": "5b70056d",
   "metadata": {},
   "source": [
    "### Resolution\n",
    "Resolution is the minimum increment of pressure in the brake line achievable."
   ]
  },
  {
   "cell_type": "code",
   "execution_count": 28,
   "id": "ea11c55f",
   "metadata": {
    "ExecuteTime": {
     "end_time": "2022-01-04T15:00:46.458665Z",
     "start_time": "2022-01-04T15:00:46.444737Z"
    }
   },
   "outputs": [
    {
     "name": "stdout",
     "output_type": "stream",
     "text": [
      "0.004251716163060747\n",
      "0.004624102433222526\n",
      "0.049243040306635774\n"
     ]
    }
   ],
   "source": [
    "# ----- N1 -----\n",
    "N1_res_dist = N1_lever * N1_step * np.pi/180 / N1_reduction # [mm]\n",
    "N1_res_force = N1_res_dist * pedal_total_force / brake_travel\n",
    "N1_res_press = N1_res_force / pedal_total_force * pression_locking_R\n",
    "print(N1_res_press)\n",
    "\n",
    "# ----- N2 -----\n",
    "N2_res_dist = N2_lever * N2_step * np.pi/180 / N2_reduction # [mm]\n",
    "N2_res_force = N2_res_dist * pedal_total_force / brake_travel\n",
    "N2_res_press = N2_res_force / pedal_total_force * pression_locking_R\n",
    "print(N2_res_press)\n",
    "\n",
    "# ----- N3 -----\n",
    "N3_res_dist = N3_lever * N3_step * np.pi/180 # [mm]\n",
    "N3_res_force = N3_res_dist * pedal_total_force / brake_travel\n",
    "N3_res_press = N3_res_force / pedal_total_force * pression_locking_R\n",
    "print(N3_res_press)\n",
    "\n",
    "# ----- L -----\n",
    "# No data\n",
    "\n",
    "\n",
    "# ATTENTION C'EST EN MPa = 10 bar"
   ]
  },
  {
   "cell_type": "markdown",
   "id": "128287e6",
   "metadata": {},
   "source": [
    "### Heating"
   ]
  },
  {
   "cell_type": "code",
   "execution_count": 29,
   "id": "b2d6a5ef",
   "metadata": {
    "ExecuteTime": {
     "end_time": "2022-01-04T15:00:46.474624Z",
     "start_time": "2022-01-04T15:00:46.459664Z"
    }
   },
   "outputs": [
    {
     "name": "stdout",
     "output_type": "stream",
     "text": [
      "350.7936507936509\n",
      "663.2653061224489\n",
      "405.43550902205385\n",
      "62.23404255319149\n"
     ]
    }
   ],
   "source": [
    "# ----- N1 -----\n",
    "N1_power = N1_resistance * N1_current**2\n",
    "\n",
    "N1_max_time_continuous_use = N1_portion_that_heats*N1_mass * copper_specific_heat * (max_temp - base_temp) / N1_power\n",
    "print(N1_max_time_continuous_use)\n",
    "\n",
    "# ----- N2 -----\n",
    "N2_power = N2_resistance * N2_current**2\n",
    "\n",
    "N2_max_time_continuous_use = N2_portion_that_heats*N2_mass * copper_specific_heat * (max_temp - base_temp) / N2_power\n",
    "print(N2_max_time_continuous_use)\n",
    "\n",
    "# ----- N3 -----\n",
    "N3_power = N3_resistance * N3_current**2\n",
    "\n",
    "N3_max_time_continuous_use = N3_portion_that_heats*N3_mass * copper_specific_heat * (max_temp - base_temp) / N3_power\n",
    "print(N3_max_time_continuous_use)\n",
    "\n",
    "# ----- L -----\n",
    "# Assume 10% of the total weight is what is heated (motor is small compared to actuator), made of copper, \n",
    "# and all power goes to heating\n",
    "L_power = L_current*24 # 24 V\n",
    "\n",
    "L_max_time_continuous_use = L_portion_that_heats*L_mass * copper_specific_heat * (max_temp - base_temp) / L_power\n",
    "print(L_max_time_continuous_use)"
   ]
  },
  {
   "cell_type": "markdown",
   "id": "caf4a658",
   "metadata": {},
   "source": [
    "## Cables\n",
    "The cable selected for the applications are Dyneema SK78 3mm. \n",
    "\n",
    "## Pulleys\n",
    "The selection depends on the cable diameter and bending flexibility. More infos on how to choose a pulley [here](https://www.savacable.com/how-to-choose-the-right-mechanical-cable-pulleys)."
   ]
  },
  {
   "cell_type": "code",
   "execution_count": null,
   "id": "37ab2349",
   "metadata": {},
   "outputs": [],
   "source": []
  }
 ],
 "metadata": {
  "kernelspec": {
   "display_name": "Python 3 (ipykernel)",
   "language": "python",
   "name": "python3"
  },
  "language_info": {
   "codemirror_mode": {
    "name": "ipython",
    "version": 3
   },
   "file_extension": ".py",
   "mimetype": "text/x-python",
   "name": "python",
   "nbconvert_exporter": "python",
   "pygments_lexer": "ipython3",
   "version": "3.9.6"
  },
  "toc": {
   "base_numbering": 1,
   "nav_menu": {},
   "number_sections": true,
   "sideBar": true,
   "skip_h1_title": false,
   "title_cell": "Table of Contents",
   "title_sidebar": "Contents",
   "toc_cell": false,
   "toc_position": {
    "height": "498px",
    "left": "25px",
    "top": "111.125px",
    "width": "370.594px"
   },
   "toc_section_display": true,
   "toc_window_display": true
  }
 },
 "nbformat": 4,
 "nbformat_minor": 5
}
